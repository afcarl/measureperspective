{
 "cells": [
  {
   "cell_type": "markdown",
   "metadata": {},
   "source": [
    "# Metadata survey\n",
    "\n",
    "This notebook reports the number of volume-slices we have bearing specified tags, or in specified periods."
   ]
  },
  {
   "cell_type": "code",
   "execution_count": 15,
   "metadata": {
    "collapsed": true
   },
   "outputs": [],
   "source": [
    "# First, some standard imports.\n",
    "\n",
    "import pandas as pd\n",
    "from matplotlib import pyplot as plt\n",
    "import numpy as np\n",
    "%matplotlib inline"
   ]
  },
  {
   "cell_type": "code",
   "execution_count": 16,
   "metadata": {
    "collapsed": true
   },
   "outputs": [],
   "source": [
    "# Read in master metadata, and create a column of sets\n",
    "# that can be used for genre checking.\n",
    "\n",
    "md = pd.read_csv('mastermetadata.csv')\n",
    "\n",
    "def tags2tagset(x):\n",
    "    ''' function that will be applied to transform\n",
    "    fantasy|science-fiction into {'fantasy', 'science-fiction'} '''\n",
    "    if type(x) == float:\n",
    "        return set()\n",
    "    else:\n",
    "        return set(x.split('|'))\n",
    "\n",
    "column_of_sets = md['tags'].apply(tags2tagset)\n",
    "md = md.assign(tagset = column_of_sets)"
   ]
  },
  {
   "cell_type": "markdown",
   "metadata": {},
   "source": [
    "## Let's get that data!"
   ]
  },
  {
   "cell_type": "code",
   "execution_count": 17,
   "metadata": {
    "collapsed": false
   },
   "outputs": [
    {
     "data": {
      "text/html": [
       "<div>\n",
       "<table border=\"1\" class=\"dataframe\">\n",
       "  <thead>\n",
       "    <tr style=\"text-align: right;\">\n",
       "      <th></th>\n",
       "      <th>ceiling</th>\n",
       "      <th>fantasy</th>\n",
       "      <th>floor</th>\n",
       "      <th>juv%</th>\n",
       "      <th>overlap%</th>\n",
       "      <th>random</th>\n",
       "      <th>scifi</th>\n",
       "    </tr>\n",
       "  </thead>\n",
       "  <tbody>\n",
       "    <tr>\n",
       "      <th>0</th>\n",
       "      <td>1850</td>\n",
       "      <td>8</td>\n",
       "      <td>1800</td>\n",
       "      <td>1.724138</td>\n",
       "      <td>0.000000</td>\n",
       "      <td>44</td>\n",
       "      <td>6</td>\n",
       "    </tr>\n",
       "    <tr>\n",
       "      <th>1</th>\n",
       "      <td>1898</td>\n",
       "      <td>70</td>\n",
       "      <td>1850</td>\n",
       "      <td>9.427609</td>\n",
       "      <td>6.060606</td>\n",
       "      <td>132</td>\n",
       "      <td>95</td>\n",
       "    </tr>\n",
       "    <tr>\n",
       "      <th>2</th>\n",
       "      <td>1920</td>\n",
       "      <td>78</td>\n",
       "      <td>1898</td>\n",
       "      <td>10.676157</td>\n",
       "      <td>3.825137</td>\n",
       "      <td>98</td>\n",
       "      <td>105</td>\n",
       "    </tr>\n",
       "    <tr>\n",
       "      <th>3</th>\n",
       "      <td>1950</td>\n",
       "      <td>86</td>\n",
       "      <td>1920</td>\n",
       "      <td>3.693182</td>\n",
       "      <td>6.542056</td>\n",
       "      <td>138</td>\n",
       "      <td>128</td>\n",
       "    </tr>\n",
       "    <tr>\n",
       "      <th>4</th>\n",
       "      <td>1970</td>\n",
       "      <td>112</td>\n",
       "      <td>1950</td>\n",
       "      <td>2.579365</td>\n",
       "      <td>4.823151</td>\n",
       "      <td>193</td>\n",
       "      <td>199</td>\n",
       "    </tr>\n",
       "  </tbody>\n",
       "</table>\n",
       "</div>"
      ],
      "text/plain": [
       "   ceiling  fantasy  floor       juv%  overlap%  random  scifi\n",
       "0     1850        8   1800   1.724138  0.000000      44      6\n",
       "1     1898       70   1850   9.427609  6.060606     132     95\n",
       "2     1920       78   1898  10.676157  3.825137      98    105\n",
       "3     1950       86   1920   3.693182  6.542056     138    128\n",
       "4     1970      112   1950   2.579365  4.823151     193    199"
      ]
     },
     "execution_count": 17,
     "metadata": {},
     "output_type": "execute_result"
    }
   ],
   "source": [
    "thresholds = [1800, 1850, 1898, 1920, 1950, 1970, 1980, 1990, 2000, 2010]\n",
    "\n",
    "dfrows = []\n",
    "\n",
    "for i in range(1, len(thresholds)):\n",
    "    \n",
    "    floor = thresholds[i-1]\n",
    "    ceiling = thresholds[i]\n",
    "    period = md[(md.firstpub >= floor) & (md.firstpub < ceiling)]\n",
    "    # we get rows between a pair of thresholds\n",
    "    # as often in Python, only the bottom limit is inclusive\n",
    "    \n",
    "    fantasy = 0\n",
    "    scifi = 0\n",
    "    both = 0\n",
    "    ran = 0\n",
    "    juv = 0\n",
    "    \n",
    "    for idx, row in period.iterrows():\n",
    "        t = row['tagset']\n",
    "        genrecount = 0\n",
    "        if ('fantasy_loc' in t) | ('fantasy_oclc' in t) & ('juv' not in t):\n",
    "            fantasy += 1\n",
    "            genrecount += 1\n",
    "        if ('sf_loc' in t) | ('sf_oclc' in t) & ('juv' not in t):\n",
    "            scifi += 1\n",
    "            genrecount += 1\n",
    "        if 'random' in t:\n",
    "            ran += 1\n",
    "        if 'juv' in t:\n",
    "            juv += 1\n",
    "        \n",
    "        if genrecount == 2:\n",
    "            both += 1\n",
    "    \n",
    "    dfrow = dict()\n",
    "    dfrow['floor'] = floor\n",
    "    dfrow['ceiling'] = ceiling\n",
    "    dfrow['scifi'] = scifi\n",
    "    dfrow['fantasy'] = fantasy\n",
    "    dfrow['random'] = ran\n",
    "    dfrow['juv%'] = (juv * 100) / (scifi + ran + fantasy)\n",
    "    dfrow['overlap%'] = (both * 100) / (scifi + fantasy)\n",
    "    \n",
    "    dfrows.append(dfrow)\n",
    "    \n",
    "df = pd.DataFrame(dfrows)\n",
    "\n",
    "df.head()"
   ]
  },
  {
   "cell_type": "code",
   "execution_count": 18,
   "metadata": {
    "collapsed": false
   },
   "outputs": [
    {
     "data": {
      "text/html": [
       "<div>\n",
       "<table border=\"1\" class=\"dataframe\">\n",
       "  <thead>\n",
       "    <tr style=\"text-align: right;\">\n",
       "      <th></th>\n",
       "      <th>ceiling</th>\n",
       "      <th>fantasy</th>\n",
       "      <th>floor</th>\n",
       "      <th>juv%</th>\n",
       "      <th>overlap%</th>\n",
       "      <th>random</th>\n",
       "      <th>scifi</th>\n",
       "    </tr>\n",
       "  </thead>\n",
       "  <tbody>\n",
       "    <tr>\n",
       "      <th>0</th>\n",
       "      <td>1850</td>\n",
       "      <td>8</td>\n",
       "      <td>1800</td>\n",
       "      <td>1.724138</td>\n",
       "      <td>0.000000</td>\n",
       "      <td>44</td>\n",
       "      <td>6</td>\n",
       "    </tr>\n",
       "    <tr>\n",
       "      <th>1</th>\n",
       "      <td>1898</td>\n",
       "      <td>70</td>\n",
       "      <td>1850</td>\n",
       "      <td>9.427609</td>\n",
       "      <td>6.060606</td>\n",
       "      <td>132</td>\n",
       "      <td>95</td>\n",
       "    </tr>\n",
       "    <tr>\n",
       "      <th>2</th>\n",
       "      <td>1920</td>\n",
       "      <td>78</td>\n",
       "      <td>1898</td>\n",
       "      <td>10.676157</td>\n",
       "      <td>3.825137</td>\n",
       "      <td>98</td>\n",
       "      <td>105</td>\n",
       "    </tr>\n",
       "    <tr>\n",
       "      <th>3</th>\n",
       "      <td>1950</td>\n",
       "      <td>86</td>\n",
       "      <td>1920</td>\n",
       "      <td>3.693182</td>\n",
       "      <td>6.542056</td>\n",
       "      <td>138</td>\n",
       "      <td>128</td>\n",
       "    </tr>\n",
       "    <tr>\n",
       "      <th>4</th>\n",
       "      <td>1970</td>\n",
       "      <td>112</td>\n",
       "      <td>1950</td>\n",
       "      <td>2.579365</td>\n",
       "      <td>4.823151</td>\n",
       "      <td>193</td>\n",
       "      <td>199</td>\n",
       "    </tr>\n",
       "    <tr>\n",
       "      <th>5</th>\n",
       "      <td>1980</td>\n",
       "      <td>80</td>\n",
       "      <td>1970</td>\n",
       "      <td>0.714286</td>\n",
       "      <td>2.793296</td>\n",
       "      <td>101</td>\n",
       "      <td>99</td>\n",
       "    </tr>\n",
       "    <tr>\n",
       "      <th>6</th>\n",
       "      <td>1990</td>\n",
       "      <td>97</td>\n",
       "      <td>1980</td>\n",
       "      <td>0.692042</td>\n",
       "      <td>2.061856</td>\n",
       "      <td>95</td>\n",
       "      <td>97</td>\n",
       "    </tr>\n",
       "    <tr>\n",
       "      <th>7</th>\n",
       "      <td>2000</td>\n",
       "      <td>97</td>\n",
       "      <td>1990</td>\n",
       "      <td>0.000000</td>\n",
       "      <td>3.191489</td>\n",
       "      <td>99</td>\n",
       "      <td>91</td>\n",
       "    </tr>\n",
       "    <tr>\n",
       "      <th>8</th>\n",
       "      <td>2010</td>\n",
       "      <td>86</td>\n",
       "      <td>2000</td>\n",
       "      <td>0.719424</td>\n",
       "      <td>5.913978</td>\n",
       "      <td>92</td>\n",
       "      <td>100</td>\n",
       "    </tr>\n",
       "  </tbody>\n",
       "</table>\n",
       "</div>"
      ],
      "text/plain": [
       "   ceiling  fantasy  floor       juv%  overlap%  random  scifi\n",
       "0     1850        8   1800   1.724138  0.000000      44      6\n",
       "1     1898       70   1850   9.427609  6.060606     132     95\n",
       "2     1920       78   1898  10.676157  3.825137      98    105\n",
       "3     1950       86   1920   3.693182  6.542056     138    128\n",
       "4     1970      112   1950   2.579365  4.823151     193    199\n",
       "5     1980       80   1970   0.714286  2.793296     101     99\n",
       "6     1990       97   1980   0.692042  2.061856      95     97\n",
       "7     2000       97   1990   0.000000  3.191489      99     91\n",
       "8     2010       86   2000   0.719424  5.913978      92    100"
      ]
     },
     "execution_count": 18,
     "metadata": {},
     "output_type": "execute_result"
    }
   ],
   "source": [
    "df\n"
   ]
  },
  {
   "cell_type": "code",
   "execution_count": 19,
   "metadata": {
    "collapsed": false
   },
   "outputs": [
    {
     "data": {
      "image/png": "[encoded data removed]",
      "text/plain": [
       "<matplotlib.figure.Figure at 0x1189f3828>"
      ]
     },
     "metadata": {},
     "output_type": "display_data"
    }
   ],
   "source": [
    "df.plot('ceiling', 'overlap%')\n",
    "plt.show()"
   ]
  },
  {
   "cell_type": "code",
   "execution_count": null,
   "metadata": {
    "collapsed": true
   },
   "outputs": [],
   "source": []
  }
 ],
 "metadata": {
  "kernelspec": {
   "display_name": "Python 3",
   "language": "python",
   "name": "python3"
  },
  "language_info": {
   "codemirror_mode": {
    "name": "ipython",
    "version": 3
   },
   "file_extension": ".py",
   "mimetype": "text/x-python",
   "name": "python",
   "nbconvert_exporter": "python",
   "pygments_lexer": "ipython3",
   "version": "3.5.2"
  }
 },
 "nbformat": 4,
 "nbformat_minor": 2
}
