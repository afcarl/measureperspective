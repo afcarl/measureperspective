{
 "cells": [
  {
   "cell_type": "markdown",
   "metadata": {},
   "source": [
    "# Interpret results\n"
   ]
  },
  {
   "cell_type": "code",
   "execution_count": 1,
   "metadata": {
    "collapsed": true
   },
   "outputs": [],
   "source": [
    "import pandas as pd\n",
    "from matplotlib import pyplot as plt\n",
    "from scipy.stats import pearsonr"
   ]
  },
  {
   "cell_type": "code",
   "execution_count": 2,
   "metadata": {
    "collapsed": true
   },
   "outputs": [],
   "source": [
    "results = pd.read_csv('sf2fantasy.tsv', sep = '\\t')"
   ]
  },
  {
   "cell_type": "code",
   "execution_count": 23,
   "metadata": {
    "collapsed": false
   },
   "outputs": [
    {
     "name": "stdout",
     "output_type": "stream",
     "text": [
      "1969\n",
      "0.27538111821402 0.20080155731629906\n",
      "\n",
      "1899\n",
      "0.24870488852717 0.22840706026913346\n",
      "\n",
      "1989\n",
      "0.30931507092900024 0.19792836184369733\n",
      "\n",
      "1999\n",
      "0.2730168368454997 0.18812810011911588\n",
      "\n",
      "2010\n",
      "0.17807463526830047 0.12660003355581498\n",
      "\n",
      "1979\n",
      "0.3259362043398817 0.21663393751112198\n",
      "\n",
      "1949\n",
      "0.37028834620004014 0.2685791314859893\n",
      "\n",
      "1919\n",
      "0.36613031173972 0.2816032387765968\n",
      "\n",
      "1969\n",
      "-0.12081249999999996 1.6882096069868993\n",
      "\n",
      "1899\n",
      "-0.17218750000000005 1.3604938271604936\n",
      "\n",
      "1989\n",
      "-0.09081249999999999 1.1861224489795918\n",
      "\n",
      "1999\n",
      "-0.10412499999999997 0.85\n",
      "\n",
      "2010\n",
      "-0.07550000000000001 0.6357894736842105\n",
      "\n",
      "1979\n",
      "-0.11285185185185183 1.0146097814776276\n",
      "\n",
      "1949\n",
      "-0.21825000000000003 1.7373134328358208\n",
      "\n",
      "1919\n",
      "-0.21575 1.5549549549549548\n",
      "\n"
     ]
    }
   ],
   "source": [
    "selfspear = dict()\n",
    "crosspear = dict()\n",
    "selfloss = dict()\n",
    "crossloss = dict()\n",
    "\n",
    "grouped = results.groupby('ceiling')\n",
    "for ceil, df in grouped:\n",
    "    if ceil not in selfloss:\n",
    "        selfspear[ceil] = []\n",
    "        crosspear[ceil] = []\n",
    "        selfloss[ceil] = []\n",
    "        crossloss[ceil] = []\n",
    "    for idx, row in df.iterrows():\n",
    "        spear = row['spearman']\n",
    "        loss = row['loss']\n",
    "        if row['testype'] == 'cross':\n",
    "            crosspear[ceil].append(spear)\n",
    "            crossloss[ceil].append(loss)\n",
    "        else:\n",
    "            selfspear[ceil].append(spear)\n",
    "            selfloss[ceil].append(loss)\n",
    "\n",
    "dates = []\n",
    "spears = []\n",
    "for ceil, v in crosspear.items():\n",
    "    print(ceil)\n",
    "    cr = sum(v)/len(v)\n",
    "    base = sum(selfspear[ceil])/len(selfspear[ceil])\n",
    "    diff = (base - cr)\n",
    "    pct = diff/base\n",
    "    print(diff, pct)\n",
    "    dates.append(ceil)\n",
    "    spears.append(diff)\n",
    "    print()\n",
    "\n",
    "losses = []\n",
    "for ceil, v in crossloss.items():\n",
    "    print(ceil)\n",
    "    cr = sum(v)/len(v)\n",
    "    base = sum(selfloss[ceil])/len(selfloss[ceil])\n",
    "    diff = (base - cr)\n",
    "    pct = diff/base\n",
    "    print(diff, pct)\n",
    "    losses.append(cr)\n",
    "    print()\n",
    "    "
   ]
  },
  {
   "cell_type": "code",
   "execution_count": 24,
   "metadata": {
    "collapsed": false
   },
   "outputs": [],
   "source": [
    "plt.scatter(dates, spears)\n",
    "plt.show()"
   ]
  },
  {
   "cell_type": "code",
   "execution_count": 16,
   "metadata": {
    "collapsed": false
   },
   "outputs": [
    {
     "data": {
      "text/plain": [
       "[1969,\n",
       " 1899,\n",
       " 1989,\n",
       " 1999,\n",
       " 2010,\n",
       " 1979,\n",
       " 1949,\n",
       " 1919,\n",
       " 1969,\n",
       " 1899,\n",
       " 1989,\n",
       " 1999,\n",
       " 2010,\n",
       " 1979,\n",
       " 1949,\n",
       " 1919]"
      ]
     },
     "execution_count": 16,
     "metadata": {},
     "output_type": "execute_result"
    }
   ],
   "source": [
    "dates\n"
   ]
  },
  {
   "cell_type": "code",
   "execution_count": 26,
   "metadata": {
    "collapsed": false
   },
   "outputs": [],
   "source": [
    "plt.scatter(dates, losses)\n",
    "plt.show()"
   ]
  },
  {
   "cell_type": "code",
   "execution_count": 10,
   "metadata": {
    "collapsed": false
   },
   "outputs": [
    {
     "data": {
      "text/plain": [
       "(0.88385099478380669, 1.5337904554426214e-155)"
      ]
     },
     "execution_count": 10,
     "metadata": {},
     "output_type": "execute_result"
    }
   ],
   "source": [
    "pearsonr(results.loss1on2, results.loss2on1)"
   ]
  },
  {
   "cell_type": "code",
   "execution_count": 25,
   "metadata": {
    "collapsed": false
   },
   "outputs": [
    {
     "data": {
      "text/plain": [
       "(0.75669975616695351, 7.222455653034416e-88)"
      ]
     },
     "execution_count": 25,
     "metadata": {},
     "output_type": "execute_result"
    }
   ],
   "source": [
    "pearsonr(results.spear1on2, results.spear2on1)"
   ]
  },
  {
   "cell_type": "code",
   "execution_count": null,
   "metadata": {
    "collapsed": true
   },
   "outputs": [],
   "source": []
  }
 ],
 "metadata": {
  "kernelspec": {
   "display_name": "Python 3",
   "language": "python",
   "name": "python3"
  },
  "language_info": {
   "codemirror_mode": {
    "name": "ipython",
    "version": 3
   },
   "file_extension": ".py",
   "mimetype": "text/x-python",
   "name": "python",
   "nbconvert_exporter": "python",
   "pygments_lexer": "ipython3",
   "version": "3.5.2"
  }
 },
 "nbformat": 4,
 "nbformat_minor": 2
}
