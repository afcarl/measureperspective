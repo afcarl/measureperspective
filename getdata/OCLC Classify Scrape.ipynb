{
 "cells": [
  {
   "cell_type": "code",
   "execution_count": 1,
   "metadata": {
    "collapsed": false
   },
   "outputs": [
    {
     "name": "stdout",
     "output_type": "stream",
     "text": [
      "0\n",
      "100\n",
      "200\n",
      "300\n",
      "400\n",
      "500\n"
     ]
    }
   ],
   "source": [
    "import urllib.request\n",
    "import xml.etree.ElementTree as ET\n",
    "\n",
    "#loop 0-14700, in increments of 100\n",
    "xml_objects = []\n",
    "for i in range(0, 600, 100):\n",
    "    print(i)\n",
    "    url = \"\".join([\"http://classify.oclc.org/classify2/Classify?ident=1108566&maxRecs=100&startRec=\", str(i)]) \n",
    "    with urllib.request.urlopen(url) as response:\n",
    "        xml = response.read()\n",
    "    root = ET.fromstring(xml)\n",
    "    xml_objects.append(root)\n",
    "\n",
    "# 920687 = 'Fantasy'\n",
    "# 920710 = 'Fantasy fiction'\n",
    "# 923709 = \"Fiction\"\n",
    "# 1108566= \"Science fiction\""
   ]
  },
  {
   "cell_type": "code",
   "execution_count": 2,
   "metadata": {
    "collapsed": false
   },
   "outputs": [
    {
     "name": "stdout",
     "output_type": "stream",
     "text": [
      "6\n"
     ]
    }
   ],
   "source": [
    "print(len(xml_objects))"
   ]
  },
  {
   "cell_type": "code",
   "execution_count": 3,
   "metadata": {
    "collapsed": false
   },
   "outputs": [],
   "source": [
    "a = xml_objects[0]"
   ]
  },
  {
   "cell_type": "code",
   "execution_count": 4,
   "metadata": {
    "collapsed": false
   },
   "outputs": [],
   "source": [
    "for y in a:\n",
    "    if y.tag == \"{http://classify.oclc.org}works\":\n",
    "        fields = y[0].attrib.keys()"
   ]
  },
  {
   "cell_type": "code",
   "execution_count": 5,
   "metadata": {
    "collapsed": false
   },
   "outputs": [],
   "source": [
    "rows = []\n",
    "for m in xml_objects:\n",
    "    for y in m:\n",
    "        if y.tag == \"{http://classify.oclc.org}works\":\n",
    "            for z in y:\n",
    "                row = []\n",
    "                for s in fields:\n",
    "                    try: \n",
    "                        col = z.attrib[s]\n",
    "                    except:\n",
    "                        col = \"unknown\"\n",
    "                    row.append(col)\n",
    "                rows.append(row)"
   ]
  },
  {
   "cell_type": "code",
   "execution_count": 7,
   "metadata": {
    "collapsed": false
   },
   "outputs": [
    {
     "data": {
      "text/plain": [
       "['Twenty thousand leagues under the sea',\n",
       " '10039743',\n",
       " '2017',\n",
       " '1800',\n",
       " '28686',\n",
       " 'eBook',\n",
       " '1409732303',\n",
       " 'itemtype-book-digital',\n",
       " 'Verne, Jules, 1828-1905 | University of Virginia. | Walter, F. P. [Translator] | Bonner, Anthony | McKowen, Scott [Illustrator] | Wiese, Kurt, 1887-1974 [Illustrator]',\n",
       " '3118',\n",
       " 'LCC']"
      ]
     },
     "execution_count": 7,
     "metadata": {},
     "output_type": "execute_result"
    }
   ],
   "source": [
    "rows[0]"
   ]
  },
  {
   "cell_type": "code",
   "execution_count": 8,
   "metadata": {
    "collapsed": false
   },
   "outputs": [
    {
     "name": "stdout",
     "output_type": "stream",
     "text": [
      "{'title': 'Twenty thousand leagues under the sea', 'hyr': '2017', 'author': 'Verne, Jules, 1828-1905 | University of Virginia. | Walter, F. P. [Translator] | Bonner, Anthony | McKowen, Scott [Illustrator] | Wiese, Kurt, 1887-1974 [Illustrator]', 'schemes': 'LCC', 'holdings': '28686', 'format': 'eBook', 'wi': '10039743', 'owi': '1409732303', 'lyr': '1800', 'itemtype': 'itemtype-book-digital', 'editions': '3118'}\n"
     ]
    }
   ],
   "source": [
    "print(dict(zip(fields, rows[0])))"
   ]
  },
  {
   "cell_type": "code",
   "execution_count": 9,
   "metadata": {
    "collapsed": true
   },
   "outputs": [],
   "source": [
    "import pandas as pd"
   ]
  },
  {
   "cell_type": "code",
   "execution_count": 10,
   "metadata": {
    "collapsed": false
   },
   "outputs": [],
   "source": [
    "df = pd.DataFrame(rows, columns=fields)"
   ]
  },
  {
   "cell_type": "code",
   "execution_count": 11,
   "metadata": {
    "collapsed": true
   },
   "outputs": [],
   "source": [
    "df.to_csv(\"../rawdata/oclc_sf_short.csv\")"
   ]
  },
  {
   "cell_type": "code",
   "execution_count": null,
   "metadata": {
    "collapsed": true
   },
   "outputs": [],
   "source": []
  }
 ],
 "metadata": {
  "kernelspec": {
   "display_name": "Python 3",
   "language": "python",
   "name": "python3"
  },
  "language_info": {
   "codemirror_mode": {
    "name": "ipython",
    "version": 3
   },
   "file_extension": ".py",
   "mimetype": "text/x-python",
   "name": "python",
   "nbconvert_exporter": "python",
   "pygments_lexer": "ipython3",
   "version": "3.5.2"
  }
 },
 "nbformat": 4,
 "nbformat_minor": 0
}
