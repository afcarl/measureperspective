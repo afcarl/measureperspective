{
 "cells": [
  {
   "cell_type": "markdown",
   "metadata": {},
   "source": [
    "# Metadata survey\n",
    "\n",
    "This notebook reports the number of volume-slices we have bearing various genre tags, in specified periods."
   ]
  },
  {
   "cell_type": "code",
   "execution_count": 3,
   "metadata": {
    "collapsed": true
   },
   "outputs": [],
   "source": [
    "# First, some standard imports.\n",
    "\n",
    "import pandas as pd\n",
    "from matplotlib import pyplot as plt\n",
    "import numpy as np\n",
    "%matplotlib inline"
   ]
  },
  {
   "cell_type": "code",
   "execution_count": 4,
   "metadata": {
    "collapsed": false
   },
   "outputs": [],
   "source": [
    "# Read in master metadata, and create a column of sets\n",
    "# that can be used for genre checking.\n",
    "\n",
    "md = pd.read_csv('mastermetadata.csv')\n",
    "\n",
    "def tags2tagset(x):\n",
    "    ''' function that will be applied to transform\n",
    "    fantasy|science-fiction into {'fantasy', 'science-fiction'} '''\n",
    "    if type(x) == float:\n",
    "        return set()\n",
    "    else:\n",
    "        return set(x.split('|'))\n",
    "\n",
    "column_of_sets = md['tags'].apply(tags2tagset)\n",
    "md = md.assign(tagset = column_of_sets)"
   ]
  },
  {
   "cell_type": "markdown",
   "metadata": {},
   "source": [
    "## Let's get that data!"
   ]
  },
  {
   "cell_type": "code",
   "execution_count": 7,
   "metadata": {
    "collapsed": false
   },
   "outputs": [],
   "source": [
    "thresholds = [1800, 1850, 1898, 1920, 1950, 1970, 1980, 1990, 2000, 2010]\n",
    "\n",
    "dfrows = []\n",
    "\n",
    "for i in range(1, len(thresholds)):\n",
    "    \n",
    "    floor = thresholds[i-1]\n",
    "    ceiling = thresholds[i]\n",
    "    period = md[(md.firstpub >= floor) & (md.firstpub < ceiling)]\n",
    "    # we get rows between a pair of thresholds\n",
    "    # as often in Python, only the bottom limit is inclusive\n",
    "    \n",
    "    fantasy = 0\n",
    "    scifi = 0\n",
    "    both = 0\n",
    "    ran = 0\n",
    "    juv = 0\n",
    "    \n",
    "    for idx, row in period.iterrows():\n",
    "        t = row['tagset']\n",
    "        genrecount = 0\n",
    "        if ('fantasy_loc' in t) | ('fantasy_oclc' in t) & ('juv' not in t):\n",
    "            fantasy += 1\n",
    "            genrecount += 1\n",
    "        if ('sf_loc' in t) | ('sf_oclc' in t) & ('juv' not in t):\n",
    "            scifi += 1\n",
    "            genrecount += 1\n",
    "        if 'random' in t:\n",
    "            ran += 1\n",
    "        if 'juv' in t:\n",
    "            juv += 1\n",
    "        \n",
    "        if genrecount == 2:\n",
    "            both += 1\n",
    "    \n",
    "    dfrow = dict()\n",
    "    dfrow['floor'] = floor\n",
    "    dfrow['ceiling'] = ceiling\n",
    "    dfrow['scifi'] = scifi\n",
    "    dfrow['fantasy'] = fantasy\n",
    "    dfrow['random'] = ran\n",
    "    dfrow['juv%'] = (juv * 100) / (scifi + ran + fantasy)\n",
    "    dfrow['overlap%'] = (both * 100) / (scifi + fantasy)\n",
    "    \n",
    "    dfrows.append(dfrow)\n",
    "    \n",
    "df = pd.DataFrame(dfrows)\n",
    "columnorder = ['floor', 'ceiling', 'random', 'scifi', 'fantasy', 'overlap%', 'juv%']\n",
    "df = df[columnorder]"
   ]
  },
  {
   "cell_type": "code",
   "execution_count": 8,
   "metadata": {
    "collapsed": false
   },
   "outputs": [
    {
     "data": {
      "text/html": [
       "<div>\n",
       "<table border=\"1\" class=\"dataframe\">\n",
       "  <thead>\n",
       "    <tr style=\"text-align: right;\">\n",
       "      <th></th>\n",
       "      <th>floor</th>\n",
       "      <th>ceiling</th>\n",
       "      <th>random</th>\n",
       "      <th>scifi</th>\n",
       "      <th>fantasy</th>\n",
       "      <th>overlap%</th>\n",
       "      <th>juv%</th>\n",
       "    </tr>\n",
       "  </thead>\n",
       "  <tbody>\n",
       "    <tr>\n",
       "      <th>0</th>\n",
       "      <td>1800</td>\n",
       "      <td>1850</td>\n",
       "      <td>44</td>\n",
       "      <td>6</td>\n",
       "      <td>8</td>\n",
       "      <td>0.000000</td>\n",
       "      <td>1.724138</td>\n",
       "    </tr>\n",
       "    <tr>\n",
       "      <th>1</th>\n",
       "      <td>1850</td>\n",
       "      <td>1898</td>\n",
       "      <td>132</td>\n",
       "      <td>95</td>\n",
       "      <td>70</td>\n",
       "      <td>6.060606</td>\n",
       "      <td>9.427609</td>\n",
       "    </tr>\n",
       "    <tr>\n",
       "      <th>2</th>\n",
       "      <td>1898</td>\n",
       "      <td>1920</td>\n",
       "      <td>98</td>\n",
       "      <td>105</td>\n",
       "      <td>78</td>\n",
       "      <td>3.825137</td>\n",
       "      <td>10.676157</td>\n",
       "    </tr>\n",
       "    <tr>\n",
       "      <th>3</th>\n",
       "      <td>1920</td>\n",
       "      <td>1950</td>\n",
       "      <td>138</td>\n",
       "      <td>128</td>\n",
       "      <td>86</td>\n",
       "      <td>6.542056</td>\n",
       "      <td>3.693182</td>\n",
       "    </tr>\n",
       "    <tr>\n",
       "      <th>4</th>\n",
       "      <td>1950</td>\n",
       "      <td>1970</td>\n",
       "      <td>193</td>\n",
       "      <td>199</td>\n",
       "      <td>112</td>\n",
       "      <td>4.823151</td>\n",
       "      <td>2.579365</td>\n",
       "    </tr>\n",
       "    <tr>\n",
       "      <th>5</th>\n",
       "      <td>1970</td>\n",
       "      <td>1980</td>\n",
       "      <td>101</td>\n",
       "      <td>99</td>\n",
       "      <td>80</td>\n",
       "      <td>2.793296</td>\n",
       "      <td>0.714286</td>\n",
       "    </tr>\n",
       "    <tr>\n",
       "      <th>6</th>\n",
       "      <td>1980</td>\n",
       "      <td>1990</td>\n",
       "      <td>95</td>\n",
       "      <td>97</td>\n",
       "      <td>97</td>\n",
       "      <td>2.061856</td>\n",
       "      <td>0.692042</td>\n",
       "    </tr>\n",
       "    <tr>\n",
       "      <th>7</th>\n",
       "      <td>1990</td>\n",
       "      <td>2000</td>\n",
       "      <td>99</td>\n",
       "      <td>91</td>\n",
       "      <td>97</td>\n",
       "      <td>3.191489</td>\n",
       "      <td>0.000000</td>\n",
       "    </tr>\n",
       "    <tr>\n",
       "      <th>8</th>\n",
       "      <td>2000</td>\n",
       "      <td>2010</td>\n",
       "      <td>92</td>\n",
       "      <td>100</td>\n",
       "      <td>86</td>\n",
       "      <td>5.913978</td>\n",
       "      <td>0.719424</td>\n",
       "    </tr>\n",
       "  </tbody>\n",
       "</table>\n",
       "</div>"
      ],
      "text/plain": [
       "   floor  ceiling  random  scifi  fantasy  overlap%       juv%\n",
       "0   1800     1850      44      6        8  0.000000   1.724138\n",
       "1   1850     1898     132     95       70  6.060606   9.427609\n",
       "2   1898     1920      98    105       78  3.825137  10.676157\n",
       "3   1920     1950     138    128       86  6.542056   3.693182\n",
       "4   1950     1970     193    199      112  4.823151   2.579365\n",
       "5   1970     1980     101     99       80  2.793296   0.714286\n",
       "6   1980     1990      95     97       97  2.061856   0.692042\n",
       "7   1990     2000      99     91       97  3.191489   0.000000\n",
       "8   2000     2010      92    100       86  5.913978   0.719424"
      ]
     },
     "execution_count": 8,
     "metadata": {},
     "output_type": "execute_result"
    }
   ],
   "source": [
    "df"
   ]
  },
  {
   "cell_type": "code",
   "execution_count": 16,
   "metadata": {
    "collapsed": false
   },
   "outputs": [
    {
     "data": {
      "image/png": "[encoded data removed]",
      "text/plain": [
       "<matplotlib.figure.Figure at 0x111e5f438>"
      ]
     },
     "metadata": {},
     "output_type": "display_data"
    }
   ],
   "source": [
    "df.plot('ceiling', 'juv%')\n",
    "plt.show()"
   ]
  },
  {
   "cell_type": "markdown",
   "metadata": {},
   "source": [
    "#### juvenile fiction\n",
    "\n",
    "You can see why I ended up having to exclude juvenile fiction. It clustered in a single period, for reasons that I think are shaped by the sampling method rather than the history of genre. What you can't see here is that it also clustered in fantasy rather heavily, and was particularly sparse in SF. It's a tricky problem, because I think the fantasy-children's lit connection is not adventitious. It's a fairly deep fact about the nature of fantasy. So I tried to use a light hand. I did not remove books that might be considered YA or that are widely enjoyed by adults. It's a debatable topic, however, and critics of this research will be welcome to debate it. We can also still run the scripts *without* excluding children's lit, to see what difference it makes. I haven't deleted anything; just assigned things tag that allowed them to be excluded from the calculations provisionally."
   ]
  },
  {
   "cell_type": "code",
   "execution_count": 19,
   "metadata": {
    "collapsed": false
   },
   "outputs": [
    {
     "data": {
      "image/png": "[encoded data removed]",
      "text/plain": [
       "<matplotlib.figure.Figure at 0x1189f3828>"
      ]
     },
     "metadata": {},
     "output_type": "display_data"
    }
   ],
   "source": [
    "df.plot('ceiling', 'overlap%')\n",
    "plt.show()"
   ]
  },
  {
   "cell_type": "markdown",
   "metadata": {
    "collapsed": true
   },
   "source": [
    "#### overlap\n",
    "\n",
    "Volumes that are tagged *both* SF and fantasy also potentially pose a problem. But here, even more than with children's lit, it seems to be a problem integral to the questions we are pursuing. So I haven't done anything to exclude these volumes from the experiment. Instead, typically, I allow them to be assigned to one genre or the other *randomly* each time a test is run. And then I run the test lots of times!\n",
    "\n",
    "#### other genres\n",
    "\n",
    "There is also some detective fiction in the dataset, as well as science fiction tagged by James O Bailey, and supernatural fiction tagged by Dorothy Scarborough."
   ]
  },
  {
   "cell_type": "code",
   "execution_count": 13,
   "metadata": {
    "collapsed": false
   },
   "outputs": [
    {
     "name": "stdout",
     "output_type": "stream",
     "text": [
      "Supernatural fiction: 74 volume slices\n",
      "from 1806 to 1921\n",
      "\n",
      "Detective fiction: 122 volume slices\n",
      "from 1829 to 1914\n",
      "\n",
      "Scientific fiction from Bailey's 1934 diss: 91 volume slices\n",
      "from 1806 to 1914\n"
     ]
    }
   ],
   "source": [
    "supernat = md[md['tagset'].map(lambda tagset: 'supernat' in tagset)]\n",
    "print(\"Supernatural fiction: \" + str(supernat.shape[0]) + \" volume slices\")\n",
    "print(\"from \" + str(min(supernat.firstpub)) + \" to \" + str(max(supernat.firstpub)))\n",
    "print()\n",
    "detect = md[md['tagset'].map(lambda tagset: 'detective' in tagset)]\n",
    "print(\"Detective fiction: \" + str(detect.shape[0]) + \" volume slices\")\n",
    "print(\"from \" + str(min(detect.firstpub)) + \" to \" + str(max(detect.firstpub)))\n",
    "print()\n",
    "bailey = md[md['tagset'].map(lambda tagset: 'sf_bailey' in tagset)]\n",
    "print(\"Scientific fiction from Bailey's 1934 diss: \" + str(bailey.shape[0]) + \" volume slices\")\n",
    "print(\"from \" + str(min(bailey.firstpub)) + \" to \" + str(max(bailey.firstpub)))"
   ]
  }
 ],
 "metadata": {
  "kernelspec": {
   "display_name": "Python 3",
   "language": "python",
   "name": "python3"
  },
  "language_info": {
   "codemirror_mode": {
    "name": "ipython",
    "version": 3
   },
   "file_extension": ".py",
   "mimetype": "text/x-python",
   "name": "python",
   "nbconvert_exporter": "python",
   "pygments_lexer": "ipython3",
   "version": "3.5.2"
  }
 },
 "nbformat": 4,
 "nbformat_minor": 2
}
